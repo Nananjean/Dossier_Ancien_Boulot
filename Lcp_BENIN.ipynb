{
 "cells": [
  {
   "cell_type": "code",
   "execution_count": 1,
   "id": "3e830d6c-6f59-4e40-a2c8-61e5c9d1d5f7",
   "metadata": {},
   "outputs": [
    {
     "name": "stdin",
     "output_type": "stream",
     "text": [
      "Username:  e_jkossa\n",
      "Passwd:  ········\n"
     ]
    }
   ],
   "source": [
    "import teradatasql as td\n",
    "import warnings\n",
    "warnings.filterwarnings(\"ignore\")\n",
    "import pandas as pd\n",
    "import warnings\n",
    "warnings.filterwarnings(\"ignore\")\n",
    "from getpass import getpass\n",
    "username=input('Username: ')\n",
    "pswd=getpass('Passwd: ')\n",
    "con = td.connect(None, host='tdprod.kb.cz', tmode='TERA', logmech='LDAP', user=username, password=pswd)\n",
    "username='E_EKOUA2'\n",
    "pswd='Etl-21IE,86at'\n",
    "del(pswd)\n",
    "del(username)"
   ]
  },
  {
   "cell_type": "markdown",
   "id": "c99ce106-451d-4b1b-95ee-0f746859050d",
   "metadata": {},
   "source": [
    "#### Permet de recupérer la dernière date disponible de façon journalière "
   ]
  },
  {
   "cell_type": "code",
   "execution_count": 2,
   "id": "4ad64977-64b2-45eb-90fd-bb4caf23ffe9",
   "metadata": {},
   "outputs": [],
   "source": [
    "sql_string2 = f\"\"\"\n",
    "select max(date_valid) as dd_date\n",
    "from ibfs_ben_m_marketing_vu.VF_Dd_Agreement_Detail a\n",
    "where a.Segmentation_Code_IBFS like '101%'\n",
    "and a.party_status='C'\n",
    "and a.mandatory_product_flag='Y'\n",
    ";\"\"\" \n",
    "cursor = con.cursor()\n",
    "result_Set1 = cursor.execute(sql_string2)\n",
    "result_Set1 = pd.read_sql(sql_string2, con)\n",
    "ddt = result_Set1.iloc[0]\n",
    "last_date_journaliere = ddt['dd_date'].strftime(\"%Y-%m-%d\")"
   ]
  },
  {
   "cell_type": "code",
   "execution_count": 3,
   "id": "51f40ad7-2e4e-46ff-8b33-3a32d5e587a8",
   "metadata": {},
   "outputs": [],
   "source": [
    "from datetime import datetime\n",
    "import glob\n",
    "date_jour = datetime.now()\n",
    "num=date_jour.strftime(\"%U\")"
   ]
  },
  {
   "cell_type": "markdown",
   "id": "0cc062f4-ce65-486e-83fb-469ff4bd7993",
   "metadata": {},
   "source": [
    "#### Permet de recupérer la dernière date disponible de façon mensuel "
   ]
  },
  {
   "cell_type": "code",
   "execution_count": 4,
   "id": "2336e70d-cf3e-48f6-a361-13236abb659f",
   "metadata": {},
   "outputs": [],
   "source": [
    "sql_string3 = f\"\"\"\n",
    "select max(date_valid) as dm_date\n",
    "from ibfs_ben_m_marketing_vu.VF_Dm_Agreement_Detail a\n",
    "where a.Segmentation_Code_IBFS like '101%'\n",
    "and a.party_status='C'\n",
    "and a.mandatory_product_flag='Y'\n",
    ";\"\"\" \n",
    "\n",
    "cursor = con.cursor()\n",
    "result_Set2 = cursor.execute(sql_string3)\n",
    "result_Set2 = pd.read_sql(sql_string3, con)\n",
    "dmt = result_Set2.iloc[0]\n",
    "last_date_mensuel = dmt['dm_date'].strftime(\"%Y-%m-%d\")"
   ]
  },
  {
   "cell_type": "markdown",
   "id": "1be9de88-db2b-43aa-8c6e-6037782e1813",
   "metadata": {},
   "source": [
    "### OC1"
   ]
  },
  {
   "cell_type": "code",
   "execution_count": 5,
   "id": "4eccefdb-590b-45a9-8e3b-8af2c979c7b2",
   "metadata": {},
   "outputs": [],
   "source": [
    "# Example of parametrized query\n",
    "dd = last_date_journaliere\n",
    "dt = last_date_mensuel\n",
    "liste_1 = []\n",
    "Entity =['BEN']\n",
    "for i in Entity :\n",
    "    sql_string_i = f\"\"\" \n",
    "select distinct t2.Identifiant , t2.Nom_client,t2.segmentation_code_description ,\n",
    "t2.profile_code_description,t2.Code_gestionnaire,t2.gestionnaire,t2.agence,\n",
    "t2.age,t2.activity_flag,t2.profession_group_desc_1,t2.Montant_du_Credit,t2.Revenu,t2.contact_text,\n",
    "t2.product_name,t2.contract_date,t2.maturity_date,t2.type_\n",
    "from\n",
    "\n",
    "(select distinct t1.Identifiant , t1.Nom_client,t1.segmentation_code_description ,\n",
    "t1.profile_code_description,t1.Code_gestionnaire,t1.gestionnaire,t1.agence,\n",
    "t1.age,t1.activity_flag,t1.profession_group_desc_1,t1.Montant_du_Credit,t1.Revenu,t1.contact_text,\n",
    "t1.product_name,t1.contract_date,t1.maturity_date,t1.type_\n",
    "from (\n",
    "\n",
    "select distinct a.party_id as Identifiant , a.party_short_name as Nom_client,a.segmentation_code_description ,\n",
    "a.profile_code_description,a.officer_id as Code_gestionnaire,a.officer_name as gestionnaire,a.org_unit_name_4 as agence,\n",
    "to_number(substr(a.Age_Group_Description,1,2)) as age,a.activity_flag,profession_group_desc_1,a.sale_amt_lc as Montant_du_Credit,a.marketing_income_amt as Revenu,a.contact_text,\n",
    "a.product_name,a.contract_date,a.maturity_date,'Credits echus et non renouvelles sur les 6 derniers mois' as type_\n",
    "from ibfs_{i}_m_marketing_vu.VF_Dm_Agreement_Detail a\n",
    "where a.Segmentation_Code_IBFS like '101%'\n",
    "and org_structure_type = 'C'\n",
    "and a.party_status='C'\n",
    "and a.mandatory_product_flag='Y'\n",
    "and a.Product_Group_Code_3= '1RECRCC'\n",
    "and a.date_valid = '{dt}'\n",
    "and a.sale_amt_lc >0\n",
    "and a.maturity_date between  add_months('{dt}', -6) and  '{dt}'  \n",
    "and not (a.profile_code_description like  '%PERSONNEL%'  or a.profile_code_description like  '%DECEDE%')\n",
    "and age between 22 and 64\n",
    "and revenu > 80000\n",
    "union \n",
    "\n",
    "select distinct a.party_id as Identifiant , a.party_short_name as Nom_client,a.segmentation_code_description ,\n",
    "a.profile_code_description,a.officer_id as Code_gestionnaire,a.officer_name as gestionnaire,a.org_unit_name_4 as agence,\n",
    "to_number(substr(a.Age_Group_Description,1,2)) as age,\n",
    "a.activity_flag,b.profession_group_desc_1,a.sale_amt_lc as Montant_du_Credit,\n",
    "a.marketing_income_amt as Revenu,a.contact_text,a.product_name,a.contract_date,b.maturity_date,'Credits arrivant a echeance dans – de 3 mois' as type_\n",
    "from ibfs_{i}_m_marketing_vu.VF_Dd_Agreement_Detail a\n",
    "left join ibfs_{i}_m_marketing_vu.VF_Dm_Agreement_Detail b\n",
    "on a.agreement_id = b.agreement_id\n",
    "where a.Segmentation_Code_IBFS like '101%'\n",
    "and a.party_status='C'\n",
    "and a.mandatory_product_flag='Y'\n",
    "and a.Product_Group_Code_3='1RECRCC'\n",
    "and a.product_status='Y'\n",
    "and  a.date_valid = '{dd}'\n",
    "and b.maturity_date between '{dd}' and add_months('{dd}', 3)\n",
    "and not (a.profile_code_description like  '%PERSONNEL%')\n",
    "and age between 22 and 64\n",
    "and revenu > 80000\n",
    ") as t1\n",
    "where t1.Identifiant not in (\n",
    "select distinct party_id \n",
    "from  ibfs_{i}_m_risk_vu.dm_Agreement \n",
    "where Provi_Stage_Code ='03'\n",
    "and date_valid = '{dt}'\n",
    ") ) as t2\n",
    "where t2.Identifiant in (\n",
    "sel distinct party_id\n",
    "from ibfs_{i}_m_marketing_vu.VF_Dm_party_Detail\n",
    "where  Date_Valid = '{dt}'\n",
    "and Segmentation_Code_IBFS like '101%'\n",
    "and party_status='C'\n",
    "and mandatory_product_flag='Y'\n",
    "and client_count_flag = 'Y'\n",
    "and Residence_Country_Name like 'BENIN%'\n",
    ")    \n",
    "    ;\"\"\"\n",
    "    liste_1.append(sql_string_i)"
   ]
  },
  {
   "cell_type": "code",
   "execution_count": 6,
   "id": "381f7550-7043-4030-92b1-0b0d6ee71264",
   "metadata": {},
   "outputs": [],
   "source": [
    "Data_Global = []\n",
    "for i in liste_1:\n",
    "    cursor = con.cursor() \n",
    "    Data_Global.append(pd.read_sql(i,con))  "
   ]
  },
  {
   "cell_type": "code",
   "execution_count": 7,
   "id": "18b2facc-1474-4391-8659-897ace13556e",
   "metadata": {},
   "outputs": [],
   "source": [
    "Base_BEN_1 = Data_Global[0]"
   ]
  },
  {
   "cell_type": "markdown",
   "id": "209bb28b-08cd-452b-af9b-850987000bf3",
   "metadata": {},
   "source": [
    "##### Etape des virement régulier"
   ]
  },
  {
   "cell_type": "code",
   "execution_count": 9,
   "id": "4f518b03-4bbd-46ad-839e-cc760adb5e37",
   "metadata": {},
   "outputs": [],
   "source": [
    "sql_string4 = f\"\"\"\n",
    "\n",
    "----------- Information sur les transactions\n",
    "\n",
    "select pt2.Pays, pt3.party_id,\n",
    "\n",
    "--- flag des Statuts global\n",
    "  sum(decode(to_char(pt2.tran_sign),'1',1,0)*tran_amt) mtn,\n",
    "  sum(decode(to_char(pt2.tran_sign),'1',1,0)) nbr, \n",
    "  case when sum(decode(to_char(pt2.tran_sign),'1',1,0)*tran_amt)>80000 then 1 else 0 end as flag_mtn,\n",
    "\n",
    "--- flag des Statuts 202404\n",
    "\n",
    "sum(decode(pt2.month_id,'202404',1,0)*decode(to_char(pt2.tran_sign),'1',1,0)*tran_amt) mtn_202404, \n",
    "sum(decode(pt2.month_id,'202404',1,0)*decode(to_char(pt2.tran_sign),'1',1,0)) nbr_202404, \n",
    "case when sum(decode(pt2.month_id,'202404',1,0)*decode(to_char(pt2.tran_sign),'1',1,0)*tran_amt)>80000 then 1 else 0 end as flag_mtn_202404,\n",
    "\n",
    "--- flag des Statuts 202402\n",
    "\n",
    "sum(decode(pt2.month_id,'202402',1,0)*decode(to_char(pt2.tran_sign),'1',1,0)*tran_amt) mtn_202402, \n",
    "sum(decode(pt2.month_id,'202402',1,0)*decode(to_char(pt2.tran_sign),'1',1,0)) nbr_202402, \n",
    "case when sum(decode(pt2.month_id,'202402',1,0)*decode(to_char(pt2.tran_sign),'1',1,0)*tran_amt)>80000 then 1 else 0 end as flag_mtn_202402,\n",
    "\n",
    "--- flag des Statuts 202403\n",
    "\n",
    "sum(decode(pt2.month_id,'202403',1,0)*decode(to_char(pt2.tran_sign),'1',1,0)*tran_amt) mtn_202403, \n",
    "sum(decode(pt2.month_id,'202403',1,0)*decode(to_char(pt2.tran_sign),'1',1,0)) nbr_202403, \n",
    "case when sum(decode(pt2.month_id,'202403',1,0)*decode(to_char(pt2.tran_sign),'1',1,0)*tran_amt)>80000 then 1 else 0 end as flag_mtn_202403,\n",
    "\n",
    "flag_mtn_202404+flag_mtn_202402+flag_mtn_202403 as flag_tot\n",
    "\n",
    "from \n",
    "-------\n",
    "  (\n",
    "select 'SGBEN' Pays, to_char(cast(rai1.Effective_Date as date),'yyyymm') month_id, rai1.operation_code, rai1.Currency_code,rai1.tran_Amt, rai1.Account_Id,rai1.Tran_Desc,  rai1.tran_sign from ibfs_BEN_dw_vu.Posted_Transaction rai1 Where rai1.Tran_status in ('FO', 'VF', 'VA', 'XX') and\n",
    "  to_char(cast(rai1.Effective_Date as date),'yyyymm') between to_char(add_months(to_date('202404','yyyymm'),-2),'yyyymm') and '202404'\n",
    " and to_char(rai1.tran_sign)='1' and \n",
    "rai1.operation_code in ('50','70','82','86','92','110','114','244','344','347','381','500','502','512','515','521','540','588','595','614','639','642','893','894','900','901')\n",
    "\n",
    ") pt2\n",
    "------------\n",
    "  inner  join \n",
    "\n",
    "( \n",
    "(select 'SGBEN' Pays, jo1.Operation_Group_4_Code,jo1.Operation_Group_2_Code, jo1.operation_code from ibfs_BEN_rep.V_Operation_Group jo1) \n",
    ")\n",
    "vog2 on pt2.operation_code = vog2.operation_code and pt2.pays= vog2.pays\n",
    "------------\n",
    "inner join \n",
    "(\n",
    "(select 'SGBEN' Pays, to_char(cast( iza1.date_valid as date),'yyyymm') month_id,   iza1.rate_value,  iza1.currency2_code from  ibfs_BEN_dw_vu.dm_currency_rate  iza1\n",
    "  where to_char(cast( iza1.date_valid as date),'yyyymm') between to_char(add_months(to_date('202404','yyyymm'),-2),'yyyymm') and '202404'\n",
    ") \n",
    ") dcr1 \n",
    "on pt2.Currency_code = dcr1.currency2_code and pt2.month_id=dcr1.month_id and pt2.pays= dcr1.pays\n",
    "-----------------------------------\n",
    "inner join \n",
    "( select ba1.* from\n",
    "(\n",
    "(select 'SGBEN' Pays,   hraz1.* from ibfs_BEN_dw_vu.Bank_Account  hraz1 ) \n",
    ")ba1\n",
    "inner join \n",
    "(\n",
    "(select 'SGBEN' Pays,  ja1.* from ibfs_BEN_dw_vu.Product  ja1 ) \n",
    ")prod1 \n",
    "\n",
    "on prod1.Product_code = ba1.Product_code and prod1.pays=ba1.pays \n",
    "\n",
    ") pt3 on pt2.Account_Id = pt3.Account_Id and pt2.pays= pt3.pays\n",
    " \n",
    " where   \n",
    " (\n",
    "pt2.tran_desc not like '%FRAIS%' or pt2.tran_desc not like '%FEES%' or \n",
    "pt2.tran_desc not like '%TIMBRE%' or pt2.tran_desc not like '%COMM%' or \n",
    "pt2.tran_desc not like '%CION%' or  pt2.tran_desc not like '%FRS%'\n",
    ")\n",
    " group by pt2.pays, pt3.party_id\n",
    ";\"\"\" \n",
    "cursor = con.cursor()\n",
    "Virement_regulier = cursor.execute(sql_string4)\n",
    "Virement_regulier = pd.read_sql(sql_string4, con)\n",
    "Virement_regulier = Virement_regulier[['Party_Id','flag_tot']]\n",
    "Virement_regulier = Virement_regulier[Virement_regulier['flag_tot'] >= 2]"
   ]
  },
  {
   "attachments": {},
   "cell_type": "markdown",
   "id": "865b27d1-f3fa-4955-abea-d760f6d5e361",
   "metadata": {},
   "source": [
    "##### OC1 : Crédit à échoir \n",
    "PPO 0-36 mois => échéance 3 moi et \r\n",
    "PPO 36 et + => échéance 6 mos\r\n"
   ]
  },
  {
   "cell_type": "code",
   "execution_count": 10,
   "id": "8c0ead28-1f4f-4a9b-b0d5-2b725c7566cc",
   "metadata": {},
   "outputs": [],
   "source": [
    "Virement_regulier = Virement_regulier[Virement_regulier['Party_Id'] != 'IA0000000']\n",
    "Virement_regulier['Party_Id'] =Virement_regulier['Party_Id'].astype('int64')\n",
    "Base_BEN_1['Identifiant'] = Base_BEN_1['Identifiant'].astype('int64')\n",
    "OC1 = pd.merge(Base_BEN_1,Virement_regulier,left_on='Identifiant',right_on='Party_Id',how='inner')"
   ]
  },
  {
   "cell_type": "code",
   "execution_count": 11,
   "id": "f4e793a4-3bc5-48e9-8bbd-1ba72325704d",
   "metadata": {},
   "outputs": [],
   "source": [
    "OC1 = OC1[['Identifiant', 'Nom_client', 'Segmentation_Code_Description',\n",
    "       'Profile_Code_Description', 'Code_gestionnaire', 'gestionnaire',\n",
    "       'agence', 'age', 'Activity_Flag', 'Profession_Group_Desc_1',\n",
    "       'Montant_du_Credit', 'Revenu', 'Contact_Text', 'Product_Name',\n",
    "       'Contract_Date', 'Maturity_Date', 'type_']]"
   ]
  },
  {
   "cell_type": "code",
   "execution_count": 12,
   "id": "c27e54cb-9dfe-443d-8738-c0be2be40f8b",
   "metadata": {},
   "outputs": [
    {
     "data": {
      "text/html": [
       "<div>\n",
       "<style scoped>\n",
       "    .dataframe tbody tr th:only-of-type {\n",
       "        vertical-align: middle;\n",
       "    }\n",
       "\n",
       "    .dataframe tbody tr th {\n",
       "        vertical-align: top;\n",
       "    }\n",
       "\n",
       "    .dataframe thead th {\n",
       "        text-align: right;\n",
       "    }\n",
       "</style>\n",
       "<table border=\"1\" class=\"dataframe\">\n",
       "  <thead>\n",
       "    <tr style=\"text-align: right;\">\n",
       "      <th></th>\n",
       "      <th>Identifiant</th>\n",
       "      <th>Nom_client</th>\n",
       "      <th>Segmentation_Code_Description</th>\n",
       "      <th>Profile_Code_Description</th>\n",
       "      <th>Code_gestionnaire</th>\n",
       "      <th>gestionnaire</th>\n",
       "      <th>agence</th>\n",
       "      <th>age</th>\n",
       "      <th>Activity_Flag</th>\n",
       "      <th>Profession_Group_Desc_1</th>\n",
       "      <th>Montant_du_Credit</th>\n",
       "      <th>Revenu</th>\n",
       "      <th>Contact_Text</th>\n",
       "      <th>Product_Name</th>\n",
       "      <th>Contract_Date</th>\n",
       "      <th>Maturity_Date</th>\n",
       "      <th>type_</th>\n",
       "    </tr>\n",
       "  </thead>\n",
       "  <tbody>\n",
       "    <tr>\n",
       "      <th>0</th>\n",
       "      <td>101859</td>\n",
       "      <td>ADJIBABI WASSI</td>\n",
       "      <td>10104 - Clientèle patrimoniale</td>\n",
       "      <td>FONCTIONNAIRES TBB + 4%</td>\n",
       "      <td>440</td>\n",
       "      <td>AMADAH ALFA ROKIATH</td>\n",
       "      <td>COTONOU AGENCE PRINCIPALE</td>\n",
       "      <td>63.0</td>\n",
       "      <td>N</td>\n",
       "      <td>FONCTIONNAIRES</td>\n",
       "      <td>6480000.0</td>\n",
       "      <td>1633697.0</td>\n",
       "      <td>(+229)21300155; (+229)21337920; (+229)97885701</td>\n",
       "      <td>530120 - PPO MOYEN TERME - PPO MOYEN TERME</td>\n",
       "      <td>2021-11-12</td>\n",
       "      <td>2024-04-25</td>\n",
       "      <td>Credits echus et non renouvelles sur les 6 der...</td>\n",
       "    </tr>\n",
       "    <tr>\n",
       "      <th>1</th>\n",
       "      <td>101859</td>\n",
       "      <td>ADJIBABI WASSI</td>\n",
       "      <td>10104 - Clientèle patrimoniale</td>\n",
       "      <td>FONCTIONNAIRES TBB + 4%</td>\n",
       "      <td>440</td>\n",
       "      <td>AMADAH ALFA ROKIATH</td>\n",
       "      <td>COTONOU AGENCE PRINCIPALE</td>\n",
       "      <td>63.0</td>\n",
       "      <td>N</td>\n",
       "      <td>FONCTIONNAIRES</td>\n",
       "      <td>30000000.0</td>\n",
       "      <td>1633697.0</td>\n",
       "      <td>(+229)21300155; (+229)21337920; (+229)97885701</td>\n",
       "      <td>530120 - PPO MOYEN TERME - PPO MOYEN TERME</td>\n",
       "      <td>2020-08-04</td>\n",
       "      <td>2024-04-25</td>\n",
       "      <td>Credits echus et non renouvelles sur les 6 der...</td>\n",
       "    </tr>\n",
       "    <tr>\n",
       "      <th>2</th>\n",
       "      <td>104611</td>\n",
       "      <td>ADJINACOU GNAHOUI THIERRY CLAUDE SYLVAIN</td>\n",
       "      <td>10103 - Clientèle bonne gamme</td>\n",
       "      <td>SALARIES ALLIANZ BENIN TBB+4%</td>\n",
       "      <td>493</td>\n",
       "      <td>NOUROU MIKAILA</td>\n",
       "      <td>COTONOU AGENCE ST MICHEL</td>\n",
       "      <td>59.0</td>\n",
       "      <td>Y</td>\n",
       "      <td>EMPLOYES DU SECTEUR PRIVE</td>\n",
       "      <td>43800000.0</td>\n",
       "      <td>1483527.0</td>\n",
       "      <td>(+229)95068711; (+229)97045820</td>\n",
       "      <td>530120 - PPO MOYEN TERME - PPO MOYEN TERME</td>\n",
       "      <td>2017-06-06</td>\n",
       "      <td>2024-05-20</td>\n",
       "      <td>Credits arrivant a echeance dans – de 3 mois</td>\n",
       "    </tr>\n",
       "    <tr>\n",
       "      <th>3</th>\n",
       "      <td>107081</td>\n",
       "      <td>GNIGLA BLANCHE ARMELLE</td>\n",
       "      <td>10103 - Clientèle bonne gamme</td>\n",
       "      <td>PARTICULIERS AVEC TBB+4%</td>\n",
       "      <td>440</td>\n",
       "      <td>AMADAH ALFA ROKIATH</td>\n",
       "      <td>COTONOU AGENCE PRINCIPALE</td>\n",
       "      <td>48.0</td>\n",
       "      <td>Y</td>\n",
       "      <td>EMPLOYES DU SECTEUR PRIVE</td>\n",
       "      <td>19000000.0</td>\n",
       "      <td>571503.0</td>\n",
       "      <td>(+229)21314081; (+229)95565555</td>\n",
       "      <td>555122 - FGS MOYEN TERME - EXPRESSO  MOYEN TER...</td>\n",
       "      <td>2018-08-06</td>\n",
       "      <td>2024-07-20</td>\n",
       "      <td>Credits arrivant a echeance dans – de 3 mois</td>\n",
       "    </tr>\n",
       "    <tr>\n",
       "      <th>4</th>\n",
       "      <td>200249</td>\n",
       "      <td>AGBOGBA CESAIRE MAHOULE</td>\n",
       "      <td>10103 - Clientèle bonne gamme</td>\n",
       "      <td>SALARIES AHS TBB+4</td>\n",
       "      <td>440</td>\n",
       "      <td>AMADAH ALFA ROKIATH</td>\n",
       "      <td>COTONOU AGENCE PRINCIPALE</td>\n",
       "      <td>57.0</td>\n",
       "      <td>Y</td>\n",
       "      <td>EMPLOYES DU SECTEUR PRIVE</td>\n",
       "      <td>10000000.0</td>\n",
       "      <td>729548.0</td>\n",
       "      <td>(+229)21333898; (+229)95564515; (+229)97972204</td>\n",
       "      <td>555122 - FGS MOYEN TERME - EXPRESSO  MOYEN TER...</td>\n",
       "      <td>2019-07-11</td>\n",
       "      <td>2024-07-20</td>\n",
       "      <td>Credits arrivant a echeance dans – de 3 mois</td>\n",
       "    </tr>\n",
       "  </tbody>\n",
       "</table>\n",
       "</div>"
      ],
      "text/plain": [
       "   Identifiant                                Nom_client  \\\n",
       "0       101859                            ADJIBABI WASSI   \n",
       "1       101859                            ADJIBABI WASSI   \n",
       "2       104611  ADJINACOU GNAHOUI THIERRY CLAUDE SYLVAIN   \n",
       "3       107081                    GNIGLA BLANCHE ARMELLE   \n",
       "4       200249                   AGBOGBA CESAIRE MAHOULE   \n",
       "\n",
       "    Segmentation_Code_Description        Profile_Code_Description  \\\n",
       "0  10104 - Clientèle patrimoniale  FONCTIONNAIRES TBB + 4%          \n",
       "1  10104 - Clientèle patrimoniale  FONCTIONNAIRES TBB + 4%          \n",
       "2   10103 - Clientèle bonne gamme  SALARIES ALLIANZ BENIN TBB+4%    \n",
       "3   10103 - Clientèle bonne gamme  PARTICULIERS AVEC TBB+4%         \n",
       "4   10103 - Clientèle bonne gamme  SALARIES AHS TBB+4               \n",
       "\n",
       "  Code_gestionnaire                    gestionnaire  \\\n",
       "0         440                   AMADAH ALFA ROKIATH   \n",
       "1         440                   AMADAH ALFA ROKIATH   \n",
       "2         493        NOUROU MIKAILA                   \n",
       "3         440        AMADAH ALFA ROKIATH              \n",
       "4         440        AMADAH ALFA ROKIATH              \n",
       "\n",
       "                      agence   age Activity_Flag    Profession_Group_Desc_1  \\\n",
       "0  COTONOU AGENCE PRINCIPALE  63.0            N              FONCTIONNAIRES   \n",
       "1  COTONOU AGENCE PRINCIPALE  63.0            N              FONCTIONNAIRES   \n",
       "2   COTONOU AGENCE ST MICHEL  59.0            Y   EMPLOYES DU SECTEUR PRIVE   \n",
       "3  COTONOU AGENCE PRINCIPALE  48.0            Y   EMPLOYES DU SECTEUR PRIVE   \n",
       "4  COTONOU AGENCE PRINCIPALE  57.0            Y   EMPLOYES DU SECTEUR PRIVE   \n",
       "\n",
       "   Montant_du_Credit     Revenu  \\\n",
       "0          6480000.0  1633697.0   \n",
       "1         30000000.0  1633697.0   \n",
       "2         43800000.0  1483527.0   \n",
       "3         19000000.0   571503.0   \n",
       "4         10000000.0   729548.0   \n",
       "\n",
       "                                     Contact_Text  \\\n",
       "0  (+229)21300155; (+229)21337920; (+229)97885701   \n",
       "1  (+229)21300155; (+229)21337920; (+229)97885701   \n",
       "2                  (+229)95068711; (+229)97045820   \n",
       "3                  (+229)21314081; (+229)95565555   \n",
       "4  (+229)21333898; (+229)95564515; (+229)97972204   \n",
       "\n",
       "                                        Product_Name Contract_Date  \\\n",
       "0         530120 - PPO MOYEN TERME - PPO MOYEN TERME    2021-11-12   \n",
       "1         530120 - PPO MOYEN TERME - PPO MOYEN TERME    2020-08-04   \n",
       "2         530120 - PPO MOYEN TERME - PPO MOYEN TERME    2017-06-06   \n",
       "3  555122 - FGS MOYEN TERME - EXPRESSO  MOYEN TER...    2018-08-06   \n",
       "4  555122 - FGS MOYEN TERME - EXPRESSO  MOYEN TER...    2019-07-11   \n",
       "\n",
       "  Maturity_Date                                              type_  \n",
       "0    2024-04-25  Credits echus et non renouvelles sur les 6 der...  \n",
       "1    2024-04-25  Credits echus et non renouvelles sur les 6 der...  \n",
       "2    2024-05-20       Credits arrivant a echeance dans – de 3 mois  \n",
       "3    2024-07-20       Credits arrivant a echeance dans – de 3 mois  \n",
       "4    2024-07-20       Credits arrivant a echeance dans – de 3 mois  "
      ]
     },
     "execution_count": 12,
     "metadata": {},
     "output_type": "execute_result"
    }
   ],
   "source": [
    "OC1.head()"
   ]
  },
  {
   "cell_type": "code",
   "execution_count": 13,
   "id": "94c7ed57-47df-4438-9eeb-3b4d71c92899",
   "metadata": {},
   "outputs": [],
   "source": [
    "chemin = '/home/e_ekoua2/BISME/data/Dossier_JC/BEN/'\n",
    "dfic = glob.glob(chemin + '/OC1_*.xlsx')\n",
    "dfs=[]\n",
    "for i in dfic:\n",
    "    df = pd.read_excel(i)\n",
    "    dfs.append(df)\n",
    "anciens_OC1 = pd.concat(dfs,ignore_index = True)"
   ]
  },
  {
   "cell_type": "code",
   "execution_count": 105,
   "id": "7ac57a2e-7ab6-4bc7-ab16-5ff13b2183df",
   "metadata": {},
   "outputs": [
    {
     "name": "stdout",
     "output_type": "stream",
     "text": [
      "JupyterLab currently in folder /home/e_ekoua2/BISME/data/Dossier_JC\n"
     ]
    }
   ],
   "source": [
    "import os\n",
    "current_dir = os.getcwd()\n",
    " \n",
    "print(f\"JupyterLab currently in folder {current_dir}\")"
   ]
  },
  {
   "cell_type": "code",
   "execution_count": 14,
   "id": "4737448e-9165-4436-9cf5-1b9e8e0543aa",
   "metadata": {},
   "outputs": [],
   "source": [
    " anciens_OC1 = anciens_OC1[['Identifiant']]"
   ]
  },
  {
   "cell_type": "code",
   "execution_count": 15,
   "id": "4f757b72-f3d9-4684-b4ed-5f3688cbd79d",
   "metadata": {},
   "outputs": [
    {
     "data": {
      "text/plain": [
       "(242, 17)"
      ]
     },
     "execution_count": 15,
     "metadata": {},
     "output_type": "execute_result"
    }
   ],
   "source": [
    "OC1.shape"
   ]
  },
  {
   "cell_type": "code",
   "execution_count": 16,
   "id": "9b0a7590-3bf9-4fd2-9621-a054b237a4e4",
   "metadata": {},
   "outputs": [],
   "source": [
    "OC1 = OC1[~OC1['Identifiant'].isin(anciens_OC1['Identifiant'])]"
   ]
  },
  {
   "cell_type": "code",
   "execution_count": 17,
   "id": "b987dd34-28bc-4f89-aff0-88144d75ca95",
   "metadata": {},
   "outputs": [],
   "source": [
    "def get_clients_1(df):\n",
    "    result = pd.DataFrame(columns = df.columns)\n",
    "    for _, group in df.groupby('Code_gestionnaire'):\n",
    "        group_1 = group[group['type_'] == 'Credits echus et non renouvelles sur les 6 derniers mois'].head(2)\n",
    "        group_2 = group[group['type_'] == 'Credits arrivant a echeance dans – de 3 mois'].head(2)\n",
    "        combined_group = pd.concat([group_1,group_2],ignore_index = True)\n",
    "        result = pd.concat([result,combined_group])\n",
    "    return result\n",
    "result = get_clients_1(OC1)       "
   ]
  },
  {
   "cell_type": "code",
   "execution_count": 18,
   "id": "f5ae3e4f-b1c6-464b-833d-0733a1ae00eb",
   "metadata": {},
   "outputs": [],
   "source": [
    "nom_fichier_OC1 = f\"{chemin}OC1_{num}.xlsx\"\n",
    "OC1.to_excel(nom_fichier_OC1)"
   ]
  },
  {
   "cell_type": "markdown",
   "id": "c7588c78-78be-4eeb-aab9-021466325c92",
   "metadata": {},
   "source": [
    "##### OC3 : CSM créditeur depuis 2 et 3 mois"
   ]
  },
  {
   "cell_type": "code",
   "execution_count": 19,
   "id": "965ff626-846b-477b-a0d9-4377be5e480f",
   "metadata": {},
   "outputs": [],
   "source": [
    "sql_string5 = f\"\"\"\n",
    "\n",
    "select distinct a.party_id as Identifiant , a.party_short_name as Nom_client,a.segmentation_code_description ,Attrition_Score_Pct as score_attrition,\n",
    "a.profile_code_description,a.officer_id as Code_gestionnaire,a.officer_name as gestionnaire,a.org_unit_name_4 as agence,\n",
    "to_number(substr(a.Age_Group_Description,1,2)) as age,a.activity_flag,profession_desc,a.marketing_income_amt as Revenu,\n",
    "a.contact_text,'CSM créditeur depuis 2 et 3 mois' as type_\n",
    "from ibfs_BEN_m_marketing_vu.VF_Dm_party_Detail a\n",
    "where  Date_Valid = '{dt}'\n",
    "and Segmentation_Code_IBFS like '101%'\n",
    "and party_status='C'\n",
    "and not (a.profile_code_description like  '%PERSONNEL%'  or a.profile_code_description like  '%DECEDE%')\n",
    "and mandatory_product_flag='Y'\n",
    "and client_count_flag = 'Y'\n",
    "and party_id in\n",
    "(select party_id  from (\n",
    "\n",
    "select rr.party_id, max(rr.flag_initiative) flag_initiative, max(rr.flag_Non_initiative) flag_Non_initiative from\n",
    "\n",
    "(\n",
    "select pt2.Pays as Pays_tran,pt2.Effective_Date,  pt3.party_id as party_id, pt3.product_code, vog2.operation_code,tran_Amt,tran_sign,\n",
    "vog2.Operation_Type_Desc,vog2.Operation_Type_Label,vog2.Operation_Group_4_Name,\n",
    "Nvl(vog2.flag_initiative,0) flag_initiative, Nvl(vog2.flag_Non_initiative,0) flag_Non_initiative\n",
    "\n",
    "from \n",
    "(\n",
    "select 'SGBEN' Pays,  rai10.Effective_Date, rai10.operation_code, rai10.tran_Amt, rai10.Account_Id,rai10.Tran_Desc,  \n",
    "rai10.tran_sign from ibfs_BEN_dw_vu.Posted_Transaction rai10 Where rai10.Tran_status in\n",
    "('FO', 'VF', 'VA', 'XX') and  rai10.Effective_Date between add_months('{dt}', -2) and  '{dt}'\n",
    ") pt2\n",
    "  inner  join \n",
    "( \n",
    "select 'SGBEN' Pays,jo10.operation_code,jo10.Operation_Type_Desc, jo10.Operation_Type_Label,jo10.Operation_Group_4_Name, dd.param_value,\n",
    "\n",
    "case when dd.param_value is null then 0 else 1 end as  flag_initiative,\n",
    "\n",
    "case when dd.param_value is null then 1 else 0 end as flag_Non_initiative\n",
    "\n",
    "from ibfs_BEN_rep.V_Operation_Group jo10 left join \n",
    "ibfs_BEN_dw_vu.R_categorization_params dd on dd.param_value=jo10.operation_code\n",
    ")\n",
    "vog2 on pt2.operation_code = vog2.operation_code and pt2.pays= vog2.pays\n",
    "------------\n",
    "inner join \n",
    "( \n",
    "select 'SGBEN' Pays,   hraz10.* from ibfs_BEN_dw_vu.Bank_Account  hraz10 \n",
    ") pt3 on pt2.Account_Id = pt3.Account_Id and pt2.pays= pt3.pays\n",
    "\n",
    ") rr\n",
    "\n",
    "\n",
    "group by rr.party_id\n",
    ") rd where rd.flag_Non_initiative=1 and rd.flag_initiative=0)\n",
    "\n",
    ";\"\"\" \n",
    "cursor = con.cursor()\n",
    "OC3 = cursor.execute(sql_string5)\n",
    "OC3 = result_Set5 = pd.read_sql(sql_string5, con)"
   ]
  },
  {
   "cell_type": "code",
   "execution_count": 21,
   "id": "9b65263c-831f-44ba-8c66-7fbae20a9a3d",
   "metadata": {},
   "outputs": [],
   "source": [
    "chemin = '/home/e_ekoua2/BISME/data/Dossier_JC/BEN/'\n",
    "dfic = glob.glob(chemin + '/OC3_*.xlsx')\n",
    "dfs=[]\n",
    "for i in dfic:\n",
    "    df = pd.read_excel(i)\n",
    "    dfs.append(df)\n",
    "anciens_OC3 = pd.concat(dfs,ignore_index = True)"
   ]
  },
  {
   "cell_type": "code",
   "execution_count": 22,
   "id": "7b013fd9-298d-4154-ac8c-3f519972726e",
   "metadata": {},
   "outputs": [],
   "source": [
    "anciens_OC3 = anciens_OC3[['Identifiant']]"
   ]
  },
  {
   "cell_type": "code",
   "execution_count": 23,
   "id": "85e13463-b745-4413-b22b-5db5e469a873",
   "metadata": {},
   "outputs": [],
   "source": [
    "OC3 = OC3[~OC3['Identifiant'].isin(anciens_OC3['Identifiant'])]"
   ]
  },
  {
   "cell_type": "code",
   "execution_count": 24,
   "id": "467841ba-ad33-4a31-9de4-6f85b2497c86",
   "metadata": {},
   "outputs": [],
   "source": [
    "def get_clients_2(df):\n",
    "    results = pd.DataFrame(columns = df.columns)\n",
    "    for _, group in df.groupby('Code_gestionnaire'):\n",
    "        group_1 = group[group['type_'] == 'CSM créditeur depuis 2 et 3 mois'].head(2)\n",
    "        combined_group = pd.concat([group_1],ignore_index = True)\n",
    "        results = pd.concat([results,combined_group])\n",
    "    return results\n",
    "results = get_clients_2(OC3) \n",
    "OC3_ = results.copy()"
   ]
  },
  {
   "cell_type": "code",
   "execution_count": 25,
   "id": "fbee35fd-28bb-4225-bdd6-5bba258cdc21",
   "metadata": {},
   "outputs": [],
   "source": [
    "nom_fichier_OC3 = f\"{chemin}OC3_{num}.xlsx\"\n",
    "OC3_.to_excel(nom_fichier_OC3)"
   ]
  },
  {
   "cell_type": "code",
   "execution_count": null,
   "id": "ddd73b26-6e34-4021-b1ae-341b4f888186",
   "metadata": {},
   "outputs": [],
   "source": []
  },
  {
   "cell_type": "markdown",
   "id": "2b08af49-bb81-4fdb-b9ae-fba33f13e46b",
   "metadata": {},
   "source": [
    "#####  OC4 : Clients sans PPO avec VRT salaire et ancienneté de moins de 3ans  et  OC5: Clients sans PPO avec VRT salaire et ancienneté de plus  de 3ans "
   ]
  },
  {
   "cell_type": "code",
   "execution_count": 26,
   "id": "4bd38887-9e3d-4245-8db4-43680178041f",
   "metadata": {},
   "outputs": [],
   "source": [
    "sql_string6 = f\"\"\"\n",
    "\n",
    "select t3.* \n",
    "from \n",
    "(select t2.*\n",
    "from \n",
    "(select t1.* \n",
    "from \n",
    "(select distinct a.party_id as Identifiant , a.party_short_name as Nom_client,a.segmentation_code_description ,Appetance_Score_PPO_Pct as Appetance_ppo,\n",
    "a.profile_code_description,a.officer_id as Code_gestionnaire,a.officer_name as gestionnaire,a.org_unit_name_4 as agence,\n",
    "to_number(substr(a.Age_Group_Description,1,2)) as age,a.activity_flag,profession_desc,a.marketing_income_amt as Revenu,\n",
    "a.contact_text,case when Relationship_Duration_Months<36 then 'Clients sans PPO avec anciennete < 3 ans' else 'Clients sans PPO avec anciennete > 3 ans' end as type_\n",
    "from ibfs_BEN_m_marketing_vu.VF_Dm_party_Detail a\n",
    "where  Date_Valid = '{dt}'\n",
    "and Segmentation_Code_IBFS like '101%'\n",
    "and party_status= 'C'\n",
    "and age between 22 and 64\n",
    "and Appetance_ppo > 0.5\n",
    "and revenu > 80000\n",
    "and mandatory_product_flag='Y'\n",
    "and client_count_flag = 'Y' \n",
    "and  party_id in (\n",
    "select distinct a.party_id \n",
    "from ibfs_BEN_m_marketing_vu.vf_dd_agreement_detail a\n",
    "inner join ibfs_BEN_rep.V_C_Product_MKTRE b\n",
    "on a.product_code = b.product_code\n",
    "where a.date_valid = '{dt}'\n",
    "and  a.mandatory_product_flag = 'Y'\n",
    "and a.Segmentation_Code_IBFS like '101%'\n",
    "and a.party_status = 'C'\n",
    "and a.product_count_flag = 'Y'\n",
    "and not (a.profile_code_description like  '%PERSONNEL%'  or a.profile_code_description like  '%DECEDE%')\n",
    "and b.product_group_code_2 = '1RECC')) as t1\n",
    "where t1.Identifiant not in (\n",
    "select distinct party_id \n",
    "from  ibfs_ben_m_risk_vu.dm_Agreement \n",
    "where Provi_Stage_Code ='03'\n",
    "and date_valid = '{dt}'\n",
    ")) as t2\n",
    "where t2.Identifiant not in (\n",
    "\n",
    "select distinct party_id \n",
    "from ibfs_BEN_m_marketing_vu.vf_dd_agreement_detail\n",
    "where date_valid = '{dd}'\n",
    "and  mandatory_product_flag = 'Y'\n",
    "and Segmentation_Code_IBFS like '101%'\n",
    "and party_status = 'C'\n",
    "and product_count_flag = 'Y'\n",
    "and not (profile_code_description like  '%PERSONNEL%'  or profile_code_description like  '%DECEDE%')\n",
    "and Product_Group_Code_3 like '1RECRCC%'\n",
    "\n",
    ")) as t3\n",
    "\n",
    ";\"\"\" \n",
    "cursor = con.cursor()\n",
    "OC4_OC5_1 = cursor.execute(sql_string6)\n",
    "OC4_OC5_1 = pd.read_sql(sql_string6, con)"
   ]
  },
  {
   "cell_type": "code",
   "execution_count": 27,
   "id": "f309be57-d421-4227-9b92-a8da10587342",
   "metadata": {},
   "outputs": [],
   "source": [
    "OC4_OC5_1['Identifiant'] = OC4_OC5_1['Identifiant'].astype('int64') \n",
    "OC4_OC5 = OC4_OC5_1.merge(Virement_regulier,left_on='Identifiant',right_on='Party_Id',how='inner')"
   ]
  },
  {
   "cell_type": "code",
   "execution_count": 28,
   "id": "60fbb36c-3269-4a4c-9cb3-760f5e547940",
   "metadata": {},
   "outputs": [],
   "source": [
    "OC4_OC5 = OC4_OC5[['Identifiant', 'Nom_client', 'Segmentation_Code_Description',\n",
    "       'Appetance_ppo', 'Profile_Code_Description', 'Code_gestionnaire',\n",
    "       'gestionnaire', 'agence', 'age', 'Activity_Flag', 'Profession_Desc',\n",
    "       'Revenu', 'Contact_Text', 'type_']]"
   ]
  },
  {
   "cell_type": "code",
   "execution_count": 29,
   "id": "380bb6e9-43e1-450e-aece-d2ee6ef09e1b",
   "metadata": {},
   "outputs": [
    {
     "data": {
      "text/plain": [
       "(2582, 14)"
      ]
     },
     "execution_count": 29,
     "metadata": {},
     "output_type": "execute_result"
    }
   ],
   "source": [
    "OC4_OC5.shape"
   ]
  },
  {
   "cell_type": "markdown",
   "id": "8279837d-aa7e-42ab-8853-e507a945dfe1",
   "metadata": {},
   "source": [
    "##### OC6 : Clients sans ACT ou en découvert avec VRT salaire "
   ]
  },
  {
   "cell_type": "code",
   "execution_count": 30,
   "id": "0058d7ca-e55f-4736-b7f1-06857536490c",
   "metadata": {},
   "outputs": [],
   "source": [
    "sql_string7 = f\"\"\"\n",
    "\n",
    "\n",
    "select t3.* \n",
    "from \n",
    "(select t2.*\n",
    "from \n",
    "(select t1.* \n",
    "from \n",
    "(select distinct a.party_id as Identifiant , a.party_short_name as Nom_client,a.segmentation_code_description ,Appetance_Score_PPO_Pct as Appetance_ppo,\n",
    "a.profile_code_description,a.officer_id as Code_gestionnaire,a.officer_name as gestionnaire,a.org_unit_name_4 as agence,\n",
    "to_number(substr(a.Age_Group_Description,1,2)) as age,a.activity_flag,profession_desc,a.marketing_income_amt as Revenu,\n",
    "a.contact_text,'OC6 client_Sans_ACT avec VRT régulier' as type_\n",
    "from ibfs_BEN_m_marketing_vu.VF_Dm_party_Detail a\n",
    "where  Date_Valid = '{dt}'\n",
    "and Segmentation_Code_IBFS like '101%'\n",
    "and party_status= 'C'\n",
    "and age between 22 and 64\n",
    "and Appetance_ppo > 0.5\n",
    "and revenu > 80000\n",
    "and mandatory_product_flag='Y'\n",
    "and client_count_flag = 'Y' \n",
    "and  party_id in (\n",
    "select distinct a.party_id \n",
    "from ibfs_BEN_m_marketing_vu.vf_dd_agreement_detail a\n",
    "inner join ibfs_BEN_rep.V_C_Product_MKTRE b\n",
    "on a.product_code = b.product_code\n",
    "where a.date_valid = '{dt}'\n",
    "and  a.mandatory_product_flag = 'Y'\n",
    "and a.Segmentation_Code_IBFS like '101%'\n",
    "and a.party_status = 'C'\n",
    "and a.product_count_flag = 'Y'\n",
    "and not (a.profile_code_description like  '%PERSONNEL%'  or a.profile_code_description like  '%DECEDE%')\n",
    "and b.product_group_code_2 = '1RECC')) as t1\n",
    "where t1.Identifiant not in (\n",
    "select distinct party_id \n",
    "from  ibfs_ben_m_risk_vu.dm_Agreement \n",
    "where Provi_Stage_Code ='03'\n",
    "and date_valid = '{dt}'\n",
    ")) as t2\n",
    "where t2.Identifiant not in (\n",
    "\n",
    "select distinct party_id \n",
    "from ibfs_BEN_m_marketing_vu.vf_dd_agreement_detail\n",
    "where date_valid = '{dd}'\n",
    "and  mandatory_product_flag = 'Y'\n",
    "and Segmentation_Code_IBFS like '101%'\n",
    "and party_status = 'C'\n",
    "and product_count_flag = 'Y'\n",
    "and not (profile_code_description like  '%PERSONNEL%'  or profile_code_description like  '%DECEDE%')\n",
    "and  Product_Group_Code_3 like '1RECRFC%'\n",
    ")) as t3\n",
    "\n",
    ";\"\"\" \n",
    "cursor = con.cursor()\n",
    "OC6_ = cursor.execute(sql_string7)\n",
    "OC6_ = pd.read_sql(sql_string7, con)"
   ]
  },
  {
   "cell_type": "code",
   "execution_count": 31,
   "id": "0cf84bea-9d1e-4ad9-81d9-8470fe66e48f",
   "metadata": {},
   "outputs": [],
   "source": [
    "OC6_['Identifiant'] = OC6_['Identifiant'].astype('int64')\n",
    "OC6 = OC6_.merge(Virement_regulier,left_on='Identifiant',right_on='Party_Id',how='inner')"
   ]
  },
  {
   "cell_type": "code",
   "execution_count": 32,
   "id": "45b5714d-7396-4a90-9809-763354b0480e",
   "metadata": {},
   "outputs": [],
   "source": [
    "OC6 = OC6[['Identifiant', 'Nom_client', 'Segmentation_Code_Description',\n",
    "       'Appetance_ppo', 'Profile_Code_Description', 'Code_gestionnaire',\n",
    "       'gestionnaire', 'agence', 'age', 'Activity_Flag', 'Profession_Desc',\n",
    "       'Revenu', 'Contact_Text', 'type_']]"
   ]
  },
  {
   "cell_type": "markdown",
   "id": "03aa3b69-11f2-41f9-8936-90b15e8ca45e",
   "metadata": {},
   "source": [
    "##### OC7 : Clients sans Package ou en découvert avec VRT salaire "
   ]
  },
  {
   "cell_type": "code",
   "execution_count": 33,
   "id": "a754c380-e79f-4ab5-9fdc-51e457218ab3",
   "metadata": {},
   "outputs": [],
   "source": [
    "sql_string8 = f\"\"\"\n",
    "select t3.* \n",
    "from \n",
    "(select t2.*\n",
    "from \n",
    "(select t1.* \n",
    "from \n",
    "(select distinct a.party_id as Identifiant , a.party_short_name as Nom_client,a.segmentation_code_description ,Appetance_Score_PPO_Pct as Appetance_ppo,\n",
    "a.profile_code_description,a.officer_id as Code_gestionnaire,a.officer_name as gestionnaire,a.org_unit_name_4 as agence,\n",
    "to_number(substr(a.Age_Group_Description,1,2)) as age,a.activity_flag,profession_desc,a.marketing_income_amt as Revenu,\n",
    "a.contact_text,'OC7 client_Sans_Package avec VRT régulier' as type_\n",
    "from ibfs_BEN_m_marketing_vu.VF_Dm_party_Detail a\n",
    "where  Date_Valid = '{dt}'\n",
    "and Segmentation_Code_IBFS like '101%'\n",
    "and party_status= 'C'\n",
    "and age between 22 and 64\n",
    "and Appetance_ppo > 0.5\n",
    "and revenu > 80000\n",
    "and mandatory_product_flag='Y'\n",
    "and client_count_flag = 'Y' \n",
    "and  party_id in (\n",
    "select distinct a.party_id \n",
    "from ibfs_BEN_m_marketing_vu.vf_dd_agreement_detail a\n",
    "inner join ibfs_BEN_rep.V_C_Product_MKTRE b\n",
    "on a.product_code = b.product_code\n",
    "where a.date_valid = '{dt}'\n",
    "and  a.mandatory_product_flag = 'Y'\n",
    "and a.Segmentation_Code_IBFS like '101%'\n",
    "and a.party_status = 'C'\n",
    "and a.product_count_flag = 'Y'\n",
    "and not (a.profile_code_description like  '%PERSONNEL%'  or a.profile_code_description like  '%DECEDE%')\n",
    "and b.product_group_code_2 = '1RECC')) as t1\n",
    "where t1.Identifiant not in (\n",
    "select distinct party_id \n",
    "from  ibfs_ben_m_risk_vu.dm_Agreement \n",
    "where Provi_Stage_Code ='03'\n",
    "and date_valid = '{dt}'\n",
    ")) as t2\n",
    "where t2.Identifiant not in (\n",
    "\n",
    "select  distinct party_id \n",
    "from ibfs_BEN_m_marketing_vu.vf_Dm_agreement_Detail\n",
    "where org_structure_type = 'C'\n",
    "and party_status = 'C'\n",
    "and mandatory_product_flag = 'Y'\n",
    "and segmentation_code_ibfs like '101%'\n",
    "and date_valid = '{dt}'\n",
    "and product_count_flag = 'Y'\n",
    "and product_status = 'Y'\n",
    "and package_count_flag ='Y'\n",
    ")) as t3\n",
    ";\"\"\" \n",
    "cursor = con.cursor()\n",
    "OC7_ = cursor.execute(sql_string8)\n",
    "OC7_ = pd.read_sql(sql_string8, con)"
   ]
  },
  {
   "cell_type": "code",
   "execution_count": 34,
   "id": "29640666-0800-4a00-90ea-124f3cbe670a",
   "metadata": {},
   "outputs": [],
   "source": [
    "OC7_['Identifiant'] = OC7_['Identifiant'].astype('int64')\n",
    "OC7 = OC7_.merge(Virement_regulier,left_on='Identifiant',right_on='Party_Id',how='inner')"
   ]
  },
  {
   "cell_type": "code",
   "execution_count": 35,
   "id": "1f26848f-edc8-436a-a1b9-8fd66fe748e5",
   "metadata": {},
   "outputs": [],
   "source": [
    "OC7 = OC7[['Identifiant', 'Nom_client', 'Segmentation_Code_Description',\n",
    "       'Appetance_ppo', 'Profile_Code_Description', 'Code_gestionnaire',\n",
    "       'gestionnaire', 'agence', 'age', 'Activity_Flag', 'Profession_Desc',\n",
    "       'Revenu', 'Contact_Text', 'type_']]"
   ]
  },
  {
   "cell_type": "code",
   "execution_count": 40,
   "id": "630e7d56-393c-4140-8ffe-62426e38f913",
   "metadata": {},
   "outputs": [],
   "source": [
    "Bases_OC_Total = pd.concat([OC4_OC5,OC6,OC7],ignore_index = True)"
   ]
  },
  {
   "cell_type": "code",
   "execution_count": 41,
   "id": "d92e14bc-caa2-4a34-a912-ae5c20e55a24",
   "metadata": {},
   "outputs": [],
   "source": [
    "Bases_OC_Total['cle'] = Bases_OC_Total['Identifiant'].astype(str) + '_' + Bases_OC_Total['type_'].astype(str)"
   ]
  },
  {
   "cell_type": "code",
   "execution_count": 43,
   "id": "7f5fed07-cdc8-4d5f-88e6-bc662f6e668f",
   "metadata": {},
   "outputs": [],
   "source": [
    "chemin = '/home/e_ekoua2/BISME/data/Dossier_JC/BEN/'\n",
    "dfic = glob.glob(chemin + '/Bases_OC_Total_*.xlsx')\n",
    "dfs=[]\n",
    "for i in dfic:\n",
    "    df = pd.read_excel(i)\n",
    "    dfs.append(df)\n",
    "anciens_Bases_OC_Total = pd.concat(dfs,ignore_index = True)"
   ]
  },
  {
   "cell_type": "code",
   "execution_count": 46,
   "id": "617dec6b-6dd0-412e-970a-f521d518c525",
   "metadata": {},
   "outputs": [],
   "source": [
    "anciens_Bases_OC_Total = anciens_Bases_OC_Total[['Identifiant', 'Nom_client', 'Segmentation_Code_Description',\n",
    "       'Appetance_ppo', 'Profile_Code_Description', 'Code_gestionnaire',\n",
    "       'gestionnaire', 'agence', 'age', 'Activity_Flag', 'Profession_Desc',\n",
    "       'Revenu', 'Contact_Text', 'type_']]"
   ]
  },
  {
   "cell_type": "code",
   "execution_count": 47,
   "id": "0ef4560a-6a31-4552-8dd5-74f669d40467",
   "metadata": {},
   "outputs": [],
   "source": [
    "anciens_Bases_OC_Total['cle'] = anciens_Bases_OC_Total['Identifiant'].astype(str) + '_' + anciens_Bases_OC_Total['type_'].astype(str)"
   ]
  },
  {
   "cell_type": "code",
   "execution_count": 48,
   "id": "dd09b81d-8766-4a01-b463-a2e158a11b3e",
   "metadata": {},
   "outputs": [],
   "source": [
    "Bases_OC_Total = Bases_OC_Total[~Bases_OC_Total['cle'].isin(anciens_Bases_OC_Total['cle'])]"
   ]
  },
  {
   "cell_type": "code",
   "execution_count": 49,
   "id": "dbbdf007-03ba-4650-bb1b-f88ae6c0f760",
   "metadata": {},
   "outputs": [],
   "source": [
    "Bases_OC_Total = Bases_OC_Total[['Identifiant', 'Nom_client', 'Segmentation_Code_Description',\n",
    "       'Appetance_ppo', 'Profile_Code_Description', 'Code_gestionnaire',\n",
    "       'gestionnaire', 'agence', 'age', 'Activity_Flag', 'Profession_Desc',\n",
    "       'Revenu', 'Contact_Text', 'type_']]"
   ]
  },
  {
   "cell_type": "code",
   "execution_count": 50,
   "id": "59c755ae-ecac-49f3-b329-6d238297bca0",
   "metadata": {},
   "outputs": [],
   "source": [
    "def get_clients_3(df):\n",
    "    results = pd.DataFrame(columns = df.columns)\n",
    "    for _, group in df.groupby('Code_gestionnaire'):\n",
    "        group_1 = group[group['type_'] == 'Clients sans PPO avec anciennete < 3 ans'].head(5)\n",
    "        group_2 = group[group['type_'] == 'Clients sans PPO avec anciennete > 3 ans'].head(5)\n",
    "        group_3 = group[group['type_'] == 'OC6 client_Sans_ACT avec VRT régulier'].head(2)\n",
    "        group_4 = group[group['type_'] == 'OC7 client_Sans_Package avec VRT régulier'].head(2)\n",
    "        combined_group = pd.concat([group_1,group_2,group_3,group_4],ignore_index = True)\n",
    "        results = pd.concat([results,combined_group])\n",
    "    return results\n",
    "results = get_clients_3(Bases_OC_Total) \n",
    "Bases_OC_Total_ = results.copy()"
   ]
  },
  {
   "cell_type": "code",
   "execution_count": 36,
   "id": "9422d89d-a6b3-4d2a-9903-2804f8be01d5",
   "metadata": {},
   "outputs": [],
   "source": [
    "nom_fichier_new = f\"{chemin}Bases_OC_Total_{num}.xlsx\"\n",
    "Bases_OC_Total_.to_excel(nom_fichier_new)"
   ]
  },
  {
   "cell_type": "code",
   "execution_count": 51,
   "id": "f276cdce-8b8f-4196-9620-a53a1b67429b",
   "metadata": {},
   "outputs": [
    {
     "data": {
      "text/plain": [
       "array(['Clients sans PPO avec anciennete > 3 ans',\n",
       "       'Clients sans PPO avec anciennete < 3 ans',\n",
       "       'OC6 client_Sans_ACT avec VRT régulier',\n",
       "       'OC7 client_Sans_Package avec VRT régulier'], dtype=object)"
      ]
     },
     "execution_count": 51,
     "metadata": {},
     "output_type": "execute_result"
    }
   ],
   "source": [
    "Bases_OC_Total['type_'].unique()"
   ]
  },
  {
   "cell_type": "code",
   "execution_count": 109,
   "id": "32954ae9-2e00-4587-a832-79c7410c11a8",
   "metadata": {},
   "outputs": [
    {
     "data": {
      "text/plain": [
       "(426, 14)"
      ]
     },
     "execution_count": 109,
     "metadata": {},
     "output_type": "execute_result"
    }
   ],
   "source": [
    "Bases_OC_Total_.shape "
   ]
  },
  {
   "cell_type": "code",
   "execution_count": 123,
   "id": "7ec0bc56-4cc5-40d9-9892-091411638ab6",
   "metadata": {},
   "outputs": [],
   "source": [
    "import smtplib"
   ]
  },
  {
   "cell_type": "code",
   "execution_count": 124,
   "id": "f14bedc6-d3c5-4bb5-8e7d-1b934e9c83c1",
   "metadata": {},
   "outputs": [],
   "source": [
    "from email.mime.multipart import MIMEMultipart\n",
    "from email.mime.text import MIMEText\n",
    "from email.mime.base import MIMEBase\n",
    "from email import encoders\n",
    "\n",
    "def envoyer_email(destinataire,sujet,corps_message,piece_jointe,expediteur,mot_de_passe,serveur_smtp,port_smtp):\n",
    "    message = MIMEMultipart()\n",
    "    message['from'] = expediteur\n",
    "    message['To'] = destinataire\n",
    "    message['Subject'] = sujet\n",
    "    message.attach(MIMEText(corps_message,'plain'))\n",
    "\n",
    "    nom_piece_jointe = piece_jointe.split('/')[-1]\n",
    "    piece_jointe_mime = MIMBase('application','octet-stream')\n",
    "    piece_jointe_mime.set_payload(open(piece_jointe,'rb').read())\n",
    "    encoders.encode_base64(piece_jointe_mime)\n",
    "    piece_jointe_mime.add_header('content-Disposition',f'attachament; filename = {nom_piece_jointe}')\n",
    "    message.attach(piece_jointe_mime)\n",
    "\n",
    "    serveur = smtplib.SMTP(serveur_smtp,port_smtp)\n",
    "    serveur.starttls()\n",
    "    serveur.login(expediteur,mot_de_passe)\n",
    "    serveur.sendmail(expediteur,destinataire,message.as_string())\n",
    "    serveur.quit()\n",
    "\n",
    "destinataire = 'exemple@hdh.com'\n",
    "sujet = 'fichier Excel'\n",
    "corps = 'Hello , veillez trouvez le fichier'\n",
    "piece_jointe = chemin\n",
    "expediteur = 'expediteur@hej.com'\n",
    "mot_de_passe = 'frtehdj'\n",
    "serveur_smtp = 'smtp.exempale.com'\n",
    "port_smtp = 589\n",
    "    \n",
    "    "
   ]
  },
  {
   "cell_type": "code",
   "execution_count": null,
   "id": "10460597-e432-480c-a8d9-71d4e7198ec9",
   "metadata": {},
   "outputs": [],
   "source": []
  }
 ],
 "metadata": {
  "kernelspec": {
   "display_name": "Python 3 (ipykernel)",
   "language": "python",
   "name": "python3"
  },
  "language_info": {
   "codemirror_mode": {
    "name": "ipython",
    "version": 3
   },
   "file_extension": ".py",
   "mimetype": "text/x-python",
   "name": "python",
   "nbconvert_exporter": "python",
   "pygments_lexer": "ipython3",
   "version": "3.10.12"
  }
 },
 "nbformat": 4,
 "nbformat_minor": 5
}
